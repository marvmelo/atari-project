{
 "cells": [
  {
   "cell_type": "markdown",
   "metadata": {},
   "source": [
    "# Imports"
   ]
  },
  {
   "cell_type": "code",
   "execution_count": 34,
   "metadata": {},
   "outputs": [],
   "source": [
    "import numpy as np\n",
    "import torch\n",
    "from torch import nn\n",
    "import pygad\n",
    "import pygad.torchga as torchga\n",
    "import gym"
   ]
  },
  {
   "cell_type": "markdown",
   "metadata": {},
   "source": [
    "# Enviroment\n"
   ]
  },
  {
   "cell_type": "code",
   "execution_count": 35,
   "metadata": {},
   "outputs": [
    {
     "name": "stdout",
     "output_type": "stream",
     "text": [
      "Número de ações:\n",
      "Discrete(18)\n",
      "Significado das ações:\n",
      "['NOOP', 'FIRE', 'UP', 'RIGHT', 'LEFT', 'DOWN', 'UPRIGHT', 'UPLEFT', 'DOWNRIGHT', 'DOWNLEFT', 'UPFIRE', 'RIGHTFIRE', 'LEFTFIRE', 'DOWNFIRE', 'UPRIGHTFIRE', 'UPLEFTFIRE', 'DOWNRIGHTFIRE', 'DOWNLEFTFIRE']\n"
     ]
    }
   ],
   "source": [
    "env_si = gym.make(\"ALE/SpaceInvaders-v5\")\n",
    "env_si.reset()\n",
    "print(\"Número de ações:\")\n",
    "print(env_si.action_space)\n",
    "print(\"Significado das ações:\")\n",
    "print(env_si.get_action_meanings())"
   ]
  },
  {
   "cell_type": "markdown",
   "metadata": {},
   "source": [
    "# Modelo Pytorch"
   ]
  },
  {
   "cell_type": "code",
   "execution_count": 40,
   "metadata": {},
   "outputs": [
    {
     "name": "stdout",
     "output_type": "stream",
     "text": [
      "Sequential(\n",
      "  (0): Sequential(\n",
      "    (0): Conv2d(3, 32, kernel_size=(7, 7), stride=(1, 1), padding=(3, 3))\n",
      "    (1): ReLU(inplace=True)\n",
      "    (2): MaxPool2d(kernel_size=4, stride=4, padding=0, dilation=1, ceil_mode=False)\n",
      "  )\n",
      "  (1): Sequential(\n",
      "    (0): Conv2d(32, 64, kernel_size=(5, 5), stride=(1, 1), padding=(2, 2))\n",
      "    (1): ReLU(inplace=True)\n",
      "    (2): MaxPool2d(kernel_size=4, stride=4, padding=0, dilation=1, ceil_mode=False)\n",
      "  )\n",
      "  (2): Sequential(\n",
      "    (0): Conv2d(64, 128, kernel_size=(3, 3), stride=(1, 1), padding=(1, 1))\n",
      "    (1): ReLU(inplace=True)\n",
      "    (2): MaxPool2d(kernel_size=4, stride=4, padding=0, dilation=1, ceil_mode=False)\n",
      "  )\n",
      "  (3): Flatten(start_dim=1, end_dim=-1)\n",
      "  (4): Sequential(\n",
      "    (0): Linear(in_features=768, out_features=18, bias=True)\n",
      "    (1): Softmax(dim=None)\n",
      "  )\n",
      ")\n"
     ]
    }
   ],
   "source": [
    "conv1 = nn.Sequential(nn.Conv2d(3, 32, 7, padding=3),\n",
    "                        nn.ReLU(True),\n",
    "                        nn.MaxPool2d(4, 4))\n",
    "\n",
    "conv2 = nn.Sequential(nn.Conv2d(32, 64, 5, padding=2),\n",
    "                        nn.ReLU(True),\n",
    "                        nn.MaxPool2d(4, 4))\n",
    "\n",
    "conv3 = nn.Sequential(nn.Conv2d(64, 128, 3, padding=1),\n",
    "                        nn.ReLU(True),\n",
    "                        nn.MaxPool2d(4, 4))\n",
    "\n",
    "flatten = nn.Flatten()\n",
    "\n",
    "linear = nn.Sequential(nn.Linear(768, 18),\n",
    "                        nn.Softmax())\n",
    "\n",
    "model = nn.Sequential(conv1, conv2, conv3, flatten, linear)\n",
    "print(model)"
   ]
  },
  {
   "cell_type": "markdown",
   "metadata": {},
   "source": [
    "# Função Fit"
   ]
  },
  {
   "cell_type": "code",
   "execution_count": 37,
   "metadata": {},
   "outputs": [],
   "source": [
    "def fitness_func(solution, sol_idx):\n",
    "\n",
    "    global env_si, model\n",
    "    done = False\n",
    "    state = env_si.render(mode=\"rgb_array\").transpose(2,0,1) / 255\n",
    "    total_reward = 0\n",
    "    n_tries = 1\n",
    "\n",
    "    for i in range(n_tries):\n",
    "\n",
    "        env_si.reset()\n",
    "        env_si.seed()\n",
    "        n_steps = 1\n",
    "\n",
    "        while not done:\n",
    "\n",
    "            state = torch.tensor(state.astype(np.float32).reshape((1,3,210,160)))\n",
    "            output = torchga.predict(model=model,\n",
    "                                    solution=solution,\n",
    "                                    data=state)\n",
    "            action = torch.argmax(output)\n",
    "            next_state, reward, done, _ = env_si.step(action)\n",
    "            total_reward += reward\n",
    "            state = next_state.transpose(2,0,1) / 255\n",
    "            n_steps += 1\n",
    "            if n_steps>=5000: \n",
    "                print(\"Limite de steps excedido!\")\n",
    "                break\n",
    "    #print(f\"Solução {sol_idx} da geração testada!\")\n",
    "    \n",
    "    return total_reward / n_tries"
   ]
  },
  {
   "cell_type": "markdown",
   "metadata": {},
   "source": [
    "# Algoritmo Evolutivo"
   ]
  },
  {
   "cell_type": "code",
   "execution_count": 38,
   "metadata": {},
   "outputs": [
    {
     "name": "stderr",
     "output_type": "stream",
     "text": [
      "/home/marvmelo/Code/env/lib/python3.9/site-packages/torch/nn/modules/container.py:141: UserWarning: Implicit dimension choice for softmax has been deprecated. Change the call to include dim=X as an argument.\n",
      "  input = module(input)\n"
     ]
    },
    {
     "name": "stdout",
     "output_type": "stream",
     "text": [
      "Generation = 1\n",
      "Fitness    = 285.0\n",
      "Generation = 2\n",
      "Fitness    = 285.0\n",
      "Generation = 3\n",
      "Fitness    = 285.0\n",
      "Generation = 4\n",
      "Fitness    = 285.0\n",
      "Generation = 5\n",
      "Fitness    = 370.0\n",
      "Generation = 6\n",
      "Fitness    = 505.0\n",
      "Generation = 7\n",
      "Fitness    = 505.0\n",
      "Generation = 8\n",
      "Fitness    = 780.0\n",
      "Generation = 9\n",
      "Fitness    = 505.0\n",
      "Generation = 10\n",
      "Fitness    = 505.0\n",
      "Generation = 11\n",
      "Fitness    = 575.0\n",
      "Generation = 12\n",
      "Fitness    = 575.0\n",
      "Generation = 13\n",
      "Fitness    = 575.0\n",
      "Generation = 14\n",
      "Fitness    = 575.0\n",
      "Generation = 15\n",
      "Fitness    = 575.0\n",
      "Generation = 16\n",
      "Fitness    = 575.0\n",
      "Generation = 17\n",
      "Fitness    = 605.0\n",
      "Generation = 18\n",
      "Fitness    = 605.0\n",
      "Generation = 19\n",
      "Fitness    = 605.0\n",
      "Generation = 20\n",
      "Fitness    = 605.0\n",
      "Generation = 21\n",
      "Fitness    = 605.0\n",
      "Generation = 22\n",
      "Fitness    = 605.0\n",
      "Generation = 23\n",
      "Fitness    = 605.0\n",
      "Generation = 24\n",
      "Fitness    = 635.0\n",
      "Generation = 25\n",
      "Fitness    = 605.0\n",
      "Generation = 26\n",
      "Fitness    = 605.0\n",
      "Generation = 27\n",
      "Fitness    = 645.0\n",
      "Generation = 28\n",
      "Fitness    = 605.0\n",
      "Generation = 29\n",
      "Fitness    = 605.0\n",
      "Generation = 30\n",
      "Fitness    = 605.0\n",
      "Generation = 31\n",
      "Fitness    = 605.0\n",
      "Generation = 32\n",
      "Fitness    = 725.0\n",
      "Generation = 33\n",
      "Fitness    = 725.0\n",
      "Generation = 34\n",
      "Fitness    = 725.0\n",
      "Generation = 35\n",
      "Fitness    = 725.0\n",
      "Generation = 36\n",
      "Fitness    = 725.0\n",
      "Generation = 37\n",
      "Fitness    = 785.0\n",
      "Generation = 38\n",
      "Fitness    = 725.0\n",
      "Generation = 39\n",
      "Fitness    = 725.0\n",
      "Generation = 40\n",
      "Fitness    = 725.0\n",
      "Generation = 41\n",
      "Fitness    = 770.0\n",
      "Generation = 42\n",
      "Fitness    = 725.0\n",
      "Generation = 43\n",
      "Fitness    = 725.0\n",
      "Generation = 44\n",
      "Fitness    = 725.0\n",
      "Generation = 45\n",
      "Fitness    = 725.0\n",
      "Generation = 46\n",
      "Fitness    = 725.0\n",
      "Generation = 47\n",
      "Fitness    = 725.0\n",
      "Generation = 48\n",
      "Fitness    = 725.0\n",
      "Generation = 49\n",
      "Fitness    = 725.0\n",
      "Generation = 50\n",
      "Fitness    = 725.0\n"
     ]
    },
    {
     "data": {
      "image/png": "[encoded data removed]",
      "text/plain": [
       "<Figure size 432x288 with 1 Axes>"
      ]
     },
     "metadata": {
      "needs_background": "light"
     },
     "output_type": "display_data"
    },
    {
     "name": "stdout",
     "output_type": "stream",
     "text": [
      "Fitness value of the best solution = 725.0\n",
      "Index of the best solution : 0\n"
     ]
    }
   ],
   "source": [
    "def callback_generation(ga_instance):\n",
    "    print(\"Generation = {generation}\".format(generation=ga_instance.generations_completed))\n",
    "    print(\"Fitness    = {fitness}\".format(fitness=ga_instance.best_solution()[1]))\n",
    "\n",
    "torch_ga = torchga.TorchGA(model=model,\n",
    "                           num_solutions=25)\n",
    "\n",
    "num_generations = 50 # Number of generations.\n",
    "num_parents_mating = 5 # Number of solutions to be selected as parents in the mating pool.\n",
    "initial_population = torch_ga.population_weights # Initial population of network weights\n",
    "\n",
    "ga_instance = pygad.GA(num_generations=num_generations,\n",
    "                       num_parents_mating=num_parents_mating,\n",
    "                       initial_population=initial_population,\n",
    "                       fitness_func=fitness_func,\n",
    "                       on_generation=callback_generation,\n",
    "                       mutation_probability=0.9,\n",
    "                       random_mutation_max_val=0.1,\n",
    "                       random_mutation_min_val=-0.1)\n",
    "\n",
    "ga_instance.run()\n",
    "\n",
    "# After the generations complete, some plots are showed that summarize how the outputs/fitness values evolve over generations.\n",
    "ga_instance.plot_fitness(title=\"PyGAD & PyTorch - Iteration vs. Fitness\", linewidth=4)\n",
    "\n",
    "# Returning the details of the best solution.\n",
    "solution, solution_fitness, solution_idx = ga_instance.best_solution()\n",
    "print(\"Fitness value of the best solution = {solution_fitness}\".format(solution_fitness=solution_fitness))\n",
    "print(\"Index of the best solution : {solution_idx}\".format(solution_idx=solution_idx))\n"
   ]
  },
  {
   "cell_type": "code",
   "execution_count": 39,
   "metadata": {},
   "outputs": [],
   "source": [
    "solution_dict = torchga.model_weights_as_dict(model, solution)\n",
    "torch.save(solution_dict, \"evonet_complex\")"
   ]
  },
  {
   "cell_type": "code",
   "execution_count": null,
   "metadata": {},
   "outputs": [
    {
     "name": "stdout",
     "output_type": "stream",
     "text": [
      "715.0\n"
     ]
    }
   ],
   "source": [
    "\n",
    "import cv2\n",
    "import numpy as np\n",
    "\n",
    "frameSize = (160, 210)\n",
    "env_si.reset()\n",
    "env_si.seed()\n",
    "model.load_state_dict(solution_dict)\n",
    "out = cv2.VideoWriter('output_video.avi',cv2.VideoWriter_fourcc(*'DIVX'), 24, frameSize)\n",
    "img = env_si.render(mode=\"rgb_array\")\n",
    "done = False\n",
    "total_reward = 0\n",
    "\n",
    "while not done:\n",
    "\n",
    "    out.write(img)\n",
    "    img = torch.tensor(img.transpose((2,0,1)).reshape((1,3,210,160)).astype(np.float32)/255)\n",
    "    action = torch.argmax(model(img))\n",
    "    img, reward, done, _ = env_si.step(action)\n",
    "    total_reward += reward\n",
    "print(total_reward)\n",
    "\n",
    "out.release()"
   ]
  },
  {
   "cell_type": "markdown",
   "metadata": {},
   "source": [
    "# Modelo com autoencoder"
   ]
  },
  {
   "cell_type": "code",
   "execution_count": 24,
   "metadata": {},
   "outputs": [
    {
     "name": "stdout",
     "output_type": "stream",
     "text": [
      "Sequential(\n",
      "  (0): Linear(in_features=50, out_features=20, bias=True)\n",
      "  (1): ReLU(inplace=True)\n",
      "  (2): Linear(in_features=20, out_features=18, bias=True)\n",
      "  (3): Softmax(dim=0)\n",
      ")\n"
     ]
    }
   ],
   "source": [
    "model = nn.Sequential(nn.Linear(50, 20),\n",
    "                    nn.ReLU(True),\n",
    "                    nn.Linear(20, 18),\n",
    "                    nn.Softmax(dim=0))\n",
    "\n",
    "print(model)"
   ]
  },
  {
   "cell_type": "markdown",
   "metadata": {},
   "source": [
    "# Autoencoder"
   ]
  },
  {
   "cell_type": "code",
   "execution_count": 25,
   "metadata": {},
   "outputs": [
    {
     "data": {
      "text/plain": [
       "<All keys matched successfully>"
      ]
     },
     "execution_count": 25,
     "metadata": {},
     "output_type": "execute_result"
    }
   ],
   "source": [
    "class AutoEncoder(nn.Module):\n",
    "\n",
    "    def __init__(self) -> None:\n",
    "        super(AutoEncoder, self).__init__()\n",
    "\n",
    "        self.conv_encoder = nn.Sequential(nn.Conv2d(3, 32, 7, padding=3),\n",
    "                        nn.ReLU(True),\n",
    "                        nn.MaxPool2d(4, 4),\n",
    "                        nn.Conv2d(32, 64, 5, padding=2),\n",
    "                        nn.ReLU(True),\n",
    "                        nn.MaxPool2d(4, 4))\n",
    "\n",
    "        self.linear_encoder = nn.Sequential(nn.Flatten(),\n",
    "                        nn.Linear(8320, 50),\n",
    "                        nn.ReLU(True))\n",
    "\n",
    "        self.linear_decoder = nn.Sequential(nn.Linear(50, 8320),\n",
    "                        nn.ReLU(True),\n",
    "                        nn.Unflatten(1, (64,13,10)))\n",
    "\n",
    "        self.conv_decoder = nn.Sequential(nn.ConvTranspose2d(64, 32, 4, stride=4),\n",
    "                        nn.ReLU(True),\n",
    "                        nn.ConvTranspose2d(32, 3, 4, stride=4, output_padding=(2,0)),\n",
    "                        nn.Sigmoid())\n",
    "\n",
    "    def forward(self, x, mode=0):\n",
    "\n",
    "        y = self.conv_encoder(x)\n",
    "        y = self.linear_encoder(y)\n",
    "        if mode==1: \n",
    "          return y\n",
    "        y = self.linear_decoder(y)\n",
    "        y = self.conv_decoder(y)\n",
    "        return y\n",
    "\n",
    "conv_ae = AutoEncoder()\n",
    "conv_ae.load_state_dict(torch.load(\"conv_ae\"))"
   ]
  },
  {
   "cell_type": "markdown",
   "metadata": {},
   "source": [
    "# Função de fitness"
   ]
  },
  {
   "cell_type": "code",
   "execution_count": 26,
   "metadata": {},
   "outputs": [],
   "source": [
    "def fitness_func(solution, sol_idx):\n",
    "\n",
    "    global env_si, model\n",
    "    done = False\n",
    "    state = env_si.render(mode=\"rgb_array\").transpose(2,0,1) / 255\n",
    "    total_reward = 0\n",
    "    n_tries = 1\n",
    "\n",
    "    for i in range(n_tries):\n",
    "\n",
    "        env_si.reset()\n",
    "        env_si.seed()\n",
    "        n_steps = 1\n",
    "\n",
    "        while not done:\n",
    "\n",
    "            state = torch.tensor(state.astype(np.float32).reshape((1,3,210,160)))\n",
    "            data = conv_ae.forward(state, mode=1)\n",
    "            output = torchga.predict(model=model,\n",
    "                                    solution=solution,\n",
    "                                    data=data[0])\n",
    "            action = torch.argmax(output)\n",
    "            next_state, reward, done, _ = env_si.step(action)\n",
    "            total_reward += reward\n",
    "            state = next_state.transpose(2,0,1) / 255\n",
    "            n_steps += 1\n",
    "            if n_steps>=5000: \n",
    "                print(\"Limite de steps excedido!\")\n",
    "                break\n",
    "    #print(f\"Solução {sol_idx} da geração testada!\")\n",
    "    \n",
    "    return total_reward / n_tries"
   ]
  },
  {
   "cell_type": "markdown",
   "metadata": {},
   "source": [
    "# Algoritmo Evolutivo"
   ]
  },
  {
   "cell_type": "code",
   "execution_count": 27,
   "metadata": {},
   "outputs": [
    {
     "name": "stdout",
     "output_type": "stream",
     "text": [
      "Generation = 1\n",
      "Fitness    = 520.0\n",
      "Generation = 2\n",
      "Fitness    = 285.0\n",
      "Generation = 3\n",
      "Fitness    = 520.0\n",
      "Generation = 4\n",
      "Fitness    = 520.0\n",
      "Generation = 5\n",
      "Fitness    = 565.0\n",
      "Generation = 6\n",
      "Fitness    = 565.0\n",
      "Generation = 7\n",
      "Fitness    = 565.0\n",
      "Generation = 8\n",
      "Fitness    = 565.0\n",
      "Generation = 9\n",
      "Fitness    = 565.0\n",
      "Generation = 10\n",
      "Fitness    = 635.0\n",
      "Generation = 11\n",
      "Fitness    = 865.0\n",
      "Generation = 12\n",
      "Fitness    = 635.0\n",
      "Generation = 13\n",
      "Fitness    = 635.0\n",
      "Generation = 14\n",
      "Fitness    = 635.0\n",
      "Generation = 15\n",
      "Fitness    = 635.0\n",
      "Generation = 16\n",
      "Fitness    = 635.0\n",
      "Generation = 17\n",
      "Fitness    = 635.0\n",
      "Generation = 18\n",
      "Fitness    = 635.0\n",
      "Generation = 19\n",
      "Fitness    = 635.0\n",
      "Generation = 20\n",
      "Fitness    = 955.0\n",
      "Generation = 21\n",
      "Fitness    = 955.0\n",
      "Generation = 22\n",
      "Fitness    = 955.0\n",
      "Generation = 23\n",
      "Fitness    = 955.0\n",
      "Generation = 24\n",
      "Fitness    = 955.0\n",
      "Generation = 25\n",
      "Fitness    = 955.0\n",
      "Generation = 26\n",
      "Fitness    = 955.0\n",
      "Generation = 27\n",
      "Fitness    = 955.0\n",
      "Generation = 28\n",
      "Fitness    = 955.0\n",
      "Generation = 29\n",
      "Fitness    = 955.0\n",
      "Generation = 30\n",
      "Fitness    = 955.0\n",
      "Generation = 31\n",
      "Fitness    = 955.0\n",
      "Generation = 32\n",
      "Fitness    = 955.0\n",
      "Generation = 33\n",
      "Fitness    = 955.0\n",
      "Generation = 34\n",
      "Fitness    = 955.0\n",
      "Generation = 35\n",
      "Fitness    = 955.0\n",
      "Generation = 36\n",
      "Fitness    = 955.0\n",
      "Generation = 37\n",
      "Fitness    = 955.0\n",
      "Generation = 38\n",
      "Fitness    = 955.0\n",
      "Generation = 39\n",
      "Fitness    = 955.0\n",
      "Generation = 40\n",
      "Fitness    = 955.0\n",
      "Generation = 41\n",
      "Fitness    = 955.0\n",
      "Generation = 42\n",
      "Fitness    = 955.0\n",
      "Generation = 43\n",
      "Fitness    = 955.0\n",
      "Generation = 44\n",
      "Fitness    = 955.0\n",
      "Generation = 45\n",
      "Fitness    = 955.0\n",
      "Generation = 46\n",
      "Fitness    = 955.0\n",
      "Generation = 47\n",
      "Fitness    = 955.0\n",
      "Generation = 48\n",
      "Fitness    = 955.0\n",
      "Generation = 49\n",
      "Fitness    = 955.0\n",
      "Generation = 50\n",
      "Fitness    = 955.0\n"
     ]
    },
    {
     "data": {
      "image/png": "[encoded data removed]",
      "text/plain": [
       "<Figure size 432x288 with 1 Axes>"
      ]
     },
     "metadata": {
      "needs_background": "light"
     },
     "output_type": "display_data"
    },
    {
     "name": "stdout",
     "output_type": "stream",
     "text": [
      "Fitness value of the best solution = 955.0\n",
      "Index of the best solution : 0\n"
     ]
    }
   ],
   "source": [
    "def callback_generation(ga_instance):\n",
    "    print(\"Generation = {generation}\".format(generation=ga_instance.generations_completed))\n",
    "    print(\"Fitness    = {fitness}\".format(fitness=ga_instance.best_solution()[1]))\n",
    "\n",
    "torch_ga = torchga.TorchGA(model=model,\n",
    "                           num_solutions=25)\n",
    "\n",
    "num_generations = 50 # Number of generations.\n",
    "num_parents_mating = 5 # Number of solutions to be selected as parents in the mating pool.\n",
    "initial_population = torch_ga.population_weights # Initial population of network weights\n",
    "\n",
    "ga_instance = pygad.GA(num_generations=num_generations,\n",
    "                       num_parents_mating=num_parents_mating,\n",
    "                       initial_population=initial_population,\n",
    "                       fitness_func=fitness_func,\n",
    "                       on_generation=callback_generation,\n",
    "                       mutation_probability=0.9,\n",
    "                       random_mutation_max_val=0.1,\n",
    "                       random_mutation_min_val=-0.1)\n",
    "\n",
    "ga_instance.run()\n",
    "\n",
    "# After the generations complete, some plots are showed that summarize how the outputs/fitness values evolve over generations.\n",
    "ga_instance.plot_fitness(title=\"PyGAD & PyTorch - Iteration vs. Fitness\", linewidth=4)\n",
    "\n",
    "# Returning the details of the best solution.\n",
    "solution, solution_fitness, solution_idx = ga_instance.best_solution()\n",
    "print(\"Fitness value of the best solution = {solution_fitness}\".format(solution_fitness=solution_fitness))\n",
    "print(\"Index of the best solution : {solution_idx}\".format(solution_idx=solution_idx))\n"
   ]
  },
  {
   "cell_type": "code",
   "execution_count": 28,
   "metadata": {},
   "outputs": [],
   "source": [
    "solution_dict = torchga.model_weights_as_dict(model, solution)\n",
    "torch.save(solution_dict, \"evonet_complex\")"
   ]
  },
  {
   "cell_type": "code",
   "execution_count": 33,
   "metadata": {},
   "outputs": [
    {
     "name": "stdout",
     "output_type": "stream",
     "text": [
      "955.0\n"
     ]
    }
   ],
   "source": [
    "import cv2\n",
    "import numpy as np\n",
    "\n",
    "frameSize = (160, 210)\n",
    "env_si.reset()\n",
    "env_si.seed()\n",
    "model.load_state_dict(solution_dict)\n",
    "out = cv2.VideoWriter('output_video1.avi',cv2.VideoWriter_fourcc(*'DIVX'), 24, frameSize)\n",
    "img = env_si.render(mode=\"rgb_array\")\n",
    "done = False\n",
    "total_reward = 0\n",
    "\n",
    "while not done:\n",
    "\n",
    "    out.write(img)\n",
    "    img = torch.tensor(img.transpose((2,0,1)).reshape((1,3,210,160)).astype(np.float32)/255)\n",
    "    embed_img = conv_ae.forward(img, mode=1)[0]\n",
    "    action = torch.argmax(model(embed_img))\n",
    "    img, reward, done, _ = env_si.step(action)\n",
    "    total_reward += reward\n",
    "print(total_reward)\n",
    "\n",
    "out.release()"
   ]
  }
 ],
 "metadata": {
  "interpreter": {
   "hash": "e7370f93d1d0cde622a1f8e1c04877d8463912d04d973331ad4851f04de6915a"
  },
  "kernelspec": {
   "display_name": "Python 3.10.0 64-bit",
   "language": "python",
   "name": "python3"
  },
  "language_info": {
   "codemirror_mode": {
    "name": "ipython",
    "version": 3
   },
   "file_extension": ".py",
   "mimetype": "text/x-python",
   "name": "python",
   "nbconvert_exporter": "python",
   "pygments_lexer": "ipython3",
   "version": "3.9.5"
  },
  "orig_nbformat": 4
 },
 "nbformat": 4,
 "nbformat_minor": 2
}
