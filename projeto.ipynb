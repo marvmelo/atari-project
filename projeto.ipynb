{
 "cells": [
  {
   "cell_type": "markdown",
   "metadata": {},
   "source": [
    "# Imports"
   ]
  },
  {
   "cell_type": "code",
   "execution_count": 1,
   "metadata": {},
   "outputs": [],
   "source": [
    "import matplotlib.pyplot as plt\n",
    "import numpy as np\n",
    "import torch\n",
    "from torch import nn, optim\n",
    "import random as rand\n",
    "from gym.envs.atari.atari_env import AtariEnv"
   ]
  },
  {
   "cell_type": "markdown",
   "metadata": {},
   "source": [
    "# Criação do Enviroment"
   ]
  },
  {
   "cell_type": "code",
   "execution_count": 7,
   "metadata": {},
   "outputs": [
    {
     "name": "stdout",
     "output_type": "stream",
     "text": [
      "Número de ações:\n",
      "Discrete(6)\n",
      "Significado das ações:\n",
      "['NOOP', 'FIRE', 'RIGHT', 'LEFT', 'RIGHTFIRE', 'LEFTFIRE']\n"
     ]
    }
   ],
   "source": [
    "env_si = AtariEnv(game=\"space_invaders\", obs_type=\"image\")\n",
    "print(\"Número de ações:\")\n",
    "print(env_si.action_space)\n",
    "print(\"Significado das ações:\")\n",
    "print(env_si.get_action_meanings())"
   ]
  },
  {
   "cell_type": "markdown",
   "metadata": {},
   "source": [
    "# Buffer do Replay para DQN"
   ]
  },
  {
   "cell_type": "code",
   "execution_count": 1,
   "metadata": {},
   "outputs": [],
   "source": [
    "class ReplayBuffer():\n",
    "\n",
    "    def __init__(self, capacity = 1000):\n",
    "        \n",
    "        self.buffer = np.empty((capacity, 4), dtype=object)\n",
    "        self.pointer = 0\n",
    "        \n",
    "        for exp in range(capacity):\n",
    "\n",
    "            self.buffer[exp][0] = np.zeros((210, 160, 3))\n",
    "            self.buffer[exp][1] = 0\n",
    "            self.buffer[exp][2] = 2\n",
    "            self.buffer[exp][3] = np.zeros((210, 160, 3))\n",
    "\n",
    "    def add(self, state, action, reward, state_next):\n",
    "\n",
    "        self.pointer = (self.pointer + 1) % self.buffer.shape[0]\n",
    "        self.buffer[self.pointer][0] = state\n",
    "        self.buffer[self.pointer][1] = action\n",
    "        self.buffer[self.pointer][2] = reward\n",
    "        self.buffer[self.pointer][3] = state_next\n",
    "    \n",
    "    def sample(self, n):\n",
    "\n",
    "        idx = np.random.randint(0, self.buffer.shape[0], n)\n",
    "        return self.buffer[idx,:]\n"
   ]
  },
  {
   "cell_type": "markdown",
   "metadata": {},
   "source": [
    "# Definição da Q Network"
   ]
  },
  {
   "cell_type": "code",
   "execution_count": 4,
   "metadata": {},
   "outputs": [],
   "source": [
    "class QNetwork(nn.Module):\n",
    "\n",
    "    def __init__(self):\n",
    "        super(QNetwork, self).__init__()\n",
    "        \n",
    "        self.conv1 = nn.Sequential(nn.Conv2d(3, 32, 7, padding=3),\n",
    "                                   nn.ReLU(True),\n",
    "                                   nn.MaxPool2d(4, 4))\n",
    "\n",
    "        self.conv2 = nn.Sequential(nn.Conv2d(32, 64, 5, padding=2),\n",
    "                                   nn.ReLU(True),\n",
    "                                   nn.MaxPool2d(4, 4))\n",
    "        \n",
    "        self.conv3 = nn.Sequential(nn.Conv2d(64, 128, 3, padding=1),\n",
    "                                   nn.ReLU(True),\n",
    "                                   nn.MaxPool2d(4, 4))\n",
    "\n",
    "        self.linear = nn.Sequential(nn.Linear(768, 6),\n",
    "                                    nn.ReLU(True))\n",
    "\n",
    "    def forward(self, x):\n",
    "\n",
    "        y = self.conv1(x)\n",
    "        y = self.conv2(y)\n",
    "        y = self.conv3(y)\n",
    "        y = self.linear(y)\n",
    "        return y\n"
   ]
  },
  {
   "cell_type": "markdown",
   "metadata": {},
   "source": [
    "# Definição da função de loss e optimizer"
   ]
  },
  {
   "cell_type": "code",
   "execution_count": 6,
   "metadata": {},
   "outputs": [],
   "source": [
    "qnet = QNetwork()\n",
    "loss_function = nn.MSELoss()\n",
    "optimizer = optim.SGD(qnet.parameters(), 0.00025, 0.95)"
   ]
  }
 ],
 "metadata": {
  "interpreter": {
   "hash": "45557e52feb72a63c4c1a5d852370655efdb0275d17aba464f008ba1a31b3a60"
  },
  "kernelspec": {
   "display_name": "Python 3.9.5 64-bit ('base': conda)",
   "language": "python",
   "name": "python3"
  },
  "language_info": {
   "codemirror_mode": {
    "name": "ipython",
    "version": 3
   },
   "file_extension": ".py",
   "mimetype": "text/x-python",
   "name": "python",
   "nbconvert_exporter": "python",
   "pygments_lexer": "ipython3",
   "version": "3.9.5"
  },
  "orig_nbformat": 4
 },
 "nbformat": 4,
 "nbformat_minor": 2
}
