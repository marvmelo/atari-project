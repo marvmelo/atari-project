{
 "cells": [
  {
   "cell_type": "markdown",
   "metadata": {},
   "source": [
    "# Imports"
   ]
  },
  {
   "cell_type": "code",
   "execution_count": 18,
   "metadata": {},
   "outputs": [],
   "source": [
    "import matplotlib.pyplot as plt\n",
    "import numpy as np\n",
    "import torch\n",
    "import random as rand\n",
    "from gym.envs.atari.atari_env import AtariEnv"
   ]
  },
  {
   "cell_type": "markdown",
   "metadata": {},
   "source": [
    "# Criação do Enviroment"
   ]
  },
  {
   "cell_type": "code",
   "execution_count": 15,
   "metadata": {},
   "outputs": [
    {
     "name": "stdout",
     "output_type": "stream",
     "text": [
      "Número de ações:\n",
      "Discrete(6)\n",
      "Significado das ações:\n",
      "['NOOP', 'FIRE', 'RIGHT', 'LEFT', 'RIGHTFIRE', 'LEFTFIRE']\n"
     ]
    }
   ],
   "source": [
    "env_si = AtariEnv(game=\"space_invaders\", obs_type=\"image\")\n",
    "print(\"Número de ações:\")\n",
    "print(env_si.action_space)\n",
    "print(\"Significado das ações:\")\n",
    "print(env_si.get_action_meanings())\n"
   ]
  },
  {
   "cell_type": "markdown",
   "metadata": {},
   "source": [
    "# Buffer do Replay para DQN"
   ]
  },
  {
   "cell_type": "code",
   "execution_count": 1,
   "metadata": {},
   "outputs": [],
   "source": [
    "class ReplayBuffer():\n",
    "\n",
    "    def __init__(self, capacity = 1000):\n",
    "        \n",
    "        self.buffer = np.empty((capacity, 4), dtype=object)\n",
    "        self.pointer = 0\n",
    "        \n",
    "        for exp in range(capacity):\n",
    "\n",
    "            self.buffer[exp][0] = np.zeros((84, 84, 4))\n",
    "            self.buffer[exp][1] = 0\n",
    "            self.buffer[exp][2] = 2\n",
    "            self.buffer[exp][3] = np.zeros((84, 84, 4))\n",
    "\n",
    "    def add(self, state, action, reward, state_next):\n",
    "\n",
    "        self.pointer = (self.pointer + 1) % self.buffer.shape[0]\n",
    "        self.buffer[self.pointer][0] = state\n",
    "        self.buffer[self.pointer][1] = action\n",
    "        self.buffer[self.pointer][2] = reward\n",
    "        self.buffer[self.pointer][3] = state_next\n",
    "    \n",
    "    def sample(self, n):\n",
    "\n",
    "        idx = np.random.randint(0, self.buffer.shape[0], n)\n",
    "        return self.buffer[idx,:]\n"
   ]
  },
  {
   "cell_type": "markdown",
   "metadata": {},
   "source": [
    "# Definição da Q Network"
   ]
  },
  {
   "cell_type": "code",
   "execution_count": null,
   "metadata": {},
   "outputs": [],
   "source": []
  }
 ],
 "metadata": {
  "interpreter": {
   "hash": "45557e52feb72a63c4c1a5d852370655efdb0275d17aba464f008ba1a31b3a60"
  },
  "kernelspec": {
   "display_name": "Python 3.9.5 64-bit ('base': conda)",
   "language": "python",
   "name": "python3"
  },
  "language_info": {
   "codemirror_mode": {
    "name": "ipython",
    "version": 3
   },
   "file_extension": ".py",
   "mimetype": "text/x-python",
   "name": "python",
   "nbconvert_exporter": "python",
   "pygments_lexer": "ipython3",
   "version": "3.9.5"
  },
  "orig_nbformat": 4
 },
 "nbformat": 4,
 "nbformat_minor": 2
}
