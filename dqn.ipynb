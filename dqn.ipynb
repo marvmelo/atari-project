{
 "cells": [
  {
   "cell_type": "markdown",
   "metadata": {},
   "source": [
    "# Imports"
   ]
  },
  {
   "cell_type": "code",
   "execution_count": 43,
   "metadata": {},
   "outputs": [],
   "source": [
    "import matplotlib.pyplot as plt\n",
    "import numpy as np\n",
    "import torch\n",
    "from torch import nn, optim\n",
    "import random as rand\n",
    "from copy import deepcopy\n",
    "from gym.envs.atari.atari_env import AtariEnv"
   ]
  },
  {
   "cell_type": "markdown",
   "metadata": {},
   "source": [
    "# Criação do Enviroment"
   ]
  },
  {
   "cell_type": "code",
   "execution_count": 44,
   "metadata": {},
   "outputs": [
    {
     "name": "stdout",
     "output_type": "stream",
     "text": [
      "Número de ações:\n",
      "Discrete(6)\n",
      "Significado das ações:\n",
      "['NOOP', 'FIRE', 'RIGHT', 'LEFT', 'RIGHTFIRE', 'LEFTFIRE']\n"
     ]
    }
   ],
   "source": [
    "env_si = AtariEnv(game=\"space_invaders\", obs_type=\"image\")\n",
    "print(\"Número de ações:\")\n",
    "print(env_si.action_space)\n",
    "print(\"Significado das ações:\")\n",
    "print(env_si.get_action_meanings())"
   ]
  },
  {
   "cell_type": "markdown",
   "metadata": {},
   "source": [
    "# Buffer do Replay para DQN"
   ]
  },
  {
   "cell_type": "code",
   "execution_count": 45,
   "metadata": {},
   "outputs": [],
   "source": [
    "class ReplayBuffer():\n",
    "\n",
    "    def __init__(self, capacity = 1000):\n",
    "        \n",
    "        self.buffer = np.empty((capacity, 4), dtype=object)\n",
    "        self.pointer = 0\n",
    "\n",
    "    def add(self, state, action, reward, state_next):\n",
    "\n",
    "        self.pointer = (self.pointer + 1) % self.buffer.shape[0]\n",
    "        self.buffer[self.pointer][0] = state\n",
    "        self.buffer[self.pointer][1] = action\n",
    "        self.buffer[self.pointer][2] = reward\n",
    "        self.buffer[self.pointer][3] = state_next\n",
    "    \n",
    "    def sample(self, n):\n",
    "\n",
    "        idx = np.random.randint(0, self.buffer.shape[0], n)\n",
    "        return self.buffer[idx,:]\n",
    "\n",
    "    def save(self):\n",
    "\n",
    "        np.save(\"dqnmemorybuffer\", self.buffer)\n",
    "\n",
    "    def load(self):\n",
    "\n",
    "        self.buffer = np.load(file=\"dqnmemorybuffer.npy\", allow_pickle=True)\n"
   ]
  },
  {
   "cell_type": "markdown",
   "metadata": {},
   "source": [
    "# Definição da Q Network"
   ]
  },
  {
   "cell_type": "code",
   "execution_count": 46,
   "metadata": {},
   "outputs": [],
   "source": [
    "class QNetwork(nn.Module):\n",
    "\n",
    "    def __init__(self):\n",
    "        super(QNetwork, self).__init__()\n",
    "        \n",
    "        self.conv1 = nn.Sequential(nn.Conv2d(3, 32, 7, padding=3),\n",
    "                                   nn.ReLU(True),\n",
    "                                   nn.MaxPool2d(4, 4))\n",
    "\n",
    "        self.conv2 = nn.Sequential(nn.Conv2d(32, 64, 5, padding=2),\n",
    "                                   nn.ReLU(True),\n",
    "                                   nn.MaxPool2d(4, 4))\n",
    "        \n",
    "        self.conv3 = nn.Sequential(nn.Conv2d(64, 128, 3, padding=1),\n",
    "                                   nn.ReLU(True),\n",
    "                                   nn.MaxPool2d(4, 4))\n",
    "\n",
    "        self.linear = nn.Sequential(nn.Linear(768, 6),\n",
    "                                    nn.ReLU(True))\n",
    "\n",
    "    def forward(self, x):\n",
    "\n",
    "        y = self.conv1(x)\n",
    "        y = self.conv2(y)\n",
    "        y = self.conv3(y)\n",
    "        y = self.linear(y)\n",
    "        return y\n"
   ]
  },
  {
   "cell_type": "markdown",
   "metadata": {},
   "source": [
    "# Definição da função de loss e optimizer"
   ]
  },
  {
   "cell_type": "code",
   "execution_count": 47,
   "metadata": {},
   "outputs": [],
   "source": [
    "qnet = QNetwork()\n",
    "loss_function = nn.MSELoss()\n",
    "optimizer = optim.SGD(qnet.parameters(), 0.00025, 0.95)"
   ]
  },
  {
   "cell_type": "markdown",
   "metadata": {},
   "source": [
    "# Povoamento do Buffer"
   ]
  },
  {
   "cell_type": "code",
   "execution_count": 48,
   "metadata": {},
   "outputs": [],
   "source": [
    "%%script false --no-raise-error\n",
    "state = env_si.render(mode=\"rgb_array\").transpose((2,0,1))\n",
    "buffer = ReplayBuffer()\n",
    "\n",
    "for i in range(1000):\n",
    "\n",
    "    action = rand.randint(0,5)\n",
    "    next_state, reward, done, _ = env_si.step(action)\n",
    "    next_state = next_state.transpose((2,0,1))\n",
    "    buffer.add(state, action, reward, next_state)\n",
    "    state = next_state\n",
    "\n",
    "    if done:\n",
    "        env_si.reset()\n",
    "        env_si.seed()\n",
    "\n",
    "env_si.reset()\n",
    "buffer.save()"
   ]
  },
  {
   "cell_type": "markdown",
   "metadata": {},
   "source": [
    "# Carregar Buffer salvo"
   ]
  },
  {
   "cell_type": "code",
   "execution_count": 49,
   "metadata": {},
   "outputs": [],
   "source": [
    "buffer = ReplayBuffer()\n",
    "buffer.load()"
   ]
  },
  {
   "cell_type": "markdown",
   "metadata": {},
   "source": [
    "# Treino"
   ]
  },
  {
   "cell_type": "code",
   "execution_count": null,
   "metadata": {},
   "outputs": [],
   "source": [
    "loss_array = np.array([])\n",
    "episode_reward_array = np.array([])\n",
    "\n",
    "epsilon = 1\n",
    "min_epsilon = 0.1\n",
    "n_episodes = 1000\n",
    "\n",
    "for episode in range(n_episodes):\n",
    "\n",
    "    if episode%100==0:\n",
    "\n",
    "        qnet_copy = deepcopy(qnet)\n",
    "        epsilon = max(0.1, epsilon-0.1)\n",
    "\n",
    "    env_si.reset()\n",
    "    env_si.seed()\n",
    "    state = env_si.render(mode=\"rgb_array\").transpose((2,0,1))\n",
    "\n",
    "    done = False\n",
    "    total_reward = 0\n",
    "\n",
    "    while not done:\n",
    "\n",
    "        a = rand.random()\n",
    "\n",
    "        if a < epsilon:\n",
    "\n",
    "            action = rand.randint(0, 5)\n",
    "\n",
    "        else:\n",
    "\n",
    "            action = torch.argmax(qnet_copy.forward(state))\n",
    "\n",
    "        next_state, reward, done, _ = env_si.step(action)\n",
    "        buffer.add(state, action, reward, next_state)\n",
    "        total_reward += reward\n",
    "\n",
    "        samples = buffer.sample()\n",
    "        Xs = np.zeros((32,3,210,160))\n",
    "        Ys = np.zeros((32,6))\n",
    "\n",
    "        for i in range(32):\n",
    "            Xs[i] = samples[i][0]\n",
    "            Ys[i] = reward + qnet_copy.forward(next_state)\n",
    "        \n",
    "        optimizer.zero_grad()\n",
    "        output = qnet.forward(Xs)\n",
    "        loss = loss_function(output, Ys)\n",
    "        loss.backward()\n",
    "        optimizer.step()\n",
    "\n",
    "        loss_array = np.append(loss_array, loss)\n",
    "        print(f\"Loss é: {loss}\")\n",
    "\n",
    "    episode_reward_array = np.append(episode_reward_array, total_reward)\n",
    "    print(f\"Reward total do episódio foi {total_reward}\")\n",
    "\n",
    "            \n",
    "\n",
    "    \n",
    "\n"
   ]
  }
 ],
 "metadata": {
  "interpreter": {
   "hash": "45557e52feb72a63c4c1a5d852370655efdb0275d17aba464f008ba1a31b3a60"
  },
  "kernelspec": {
   "display_name": "Python 3.9.5 64-bit ('base': conda)",
   "language": "python",
   "name": "python3"
  },
  "language_info": {
   "codemirror_mode": {
    "name": "ipython",
    "version": 3
   },
   "file_extension": ".py",
   "mimetype": "text/x-python",
   "name": "python",
   "nbconvert_exporter": "python",
   "pygments_lexer": "ipython3",
   "version": "3.9.5"
  },
  "orig_nbformat": 4
 },
 "nbformat": 4,
 "nbformat_minor": 2
}
